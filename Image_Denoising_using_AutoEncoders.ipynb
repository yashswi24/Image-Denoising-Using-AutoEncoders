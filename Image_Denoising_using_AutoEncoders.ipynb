{
  "cells": [
    {
      "cell_type": "markdown",
      "metadata": {
        "id": "fr6pOOh0hHaj"
      },
      "source": [
        "#IMPORT LIBRARIES AND DATASET\n"
      ]
    },
    {
      "cell_type": "code",
      "execution_count": null,
      "metadata": {
        "id": "QqPjanlXkVzi"
      },
      "outputs": [],
      "source": [
        "import tensorflow as tf\n",
        "import pandas as pd\n",
        "import numpy as np\n",
        "import matplotlib.pyplot as plt\n",
        "import seaborn as sns\n",
        "import random"
      ]
    },
    {
      "cell_type": "code",
      "execution_count": null,
      "metadata": {
        "id": "DVICTPLOmKYW",
        "colab": {
          "base_uri": "https://localhost:8080/"
        },
        "outputId": "90d8fdcf-9738-4dba-8d1d-384e7f253b34"
      },
      "outputs": [
        {
          "output_type": "stream",
          "name": "stdout",
          "text": [
            "Downloading data from https://storage.googleapis.com/tensorflow/tf-keras-datasets/train-images-idx3-ubyte.gz\n",
            "26421880/26421880 [==============================] - 1s 0us/step\n",
            "Downloading data from https://storage.googleapis.com/tensorflow/tf-keras-datasets/t10k-labels-idx1-ubyte.gz\n",
            "5148/5148 [==============================] - 0s 0us/step\n",
            "Downloading data from https://storage.googleapis.com/tensorflow/tf-keras-datasets/t10k-images-idx3-ubyte.gz\n",
            "4422102/4422102 [==============================] - 0s 0us/step\n"
          ]
        }
      ],
      "source": [
        "# Load dataset \n",
        "(X_train, y_train), (X_test, y_test) = tf.keras.datasets.fashion_mnist.load_data()"
      ]
    },
    {
      "cell_type": "code",
      "execution_count": null,
      "metadata": {
        "colab": {
          "base_uri": "https://localhost:8080/"
        },
        "id": "TVLiAkyCmKOJ",
        "outputId": "a4398d7e-9655-47e9-f11e-d0ba5312fdd4",
        "scrolled": true
      },
      "outputs": [
        {
          "output_type": "execute_result",
          "data": {
            "text/plain": [
              "<matplotlib.image.AxesImage at 0x7fddc34c8d10>"
            ]
          },
          "metadata": {},
          "execution_count": 6
        },
        {
          "output_type": "display_data",
          "data": {
            "text/plain": [
              "<Figure size 432x288 with 1 Axes>"
            ],
            "image/png": "[encoded data removed]"
          },
          "metadata": {
            "needs_background": "light"
          }
        }
      ],
      "source": [
        "# Visualize a sample image\n",
        "plt.imshow(X_train[0], cmap='gray')"
      ]
    },
    {
      "cell_type": "code",
      "execution_count": null,
      "metadata": {
        "id": "V7p0n--zjhBm",
        "outputId": "8d809e91-263e-4f6c-9a8e-cd2072925bc7",
        "colab": {
          "base_uri": "https://localhost:8080/"
        }
      },
      "outputs": [
        {
          "output_type": "execute_result",
          "data": {
            "text/plain": [
              "(60000, 28, 28)"
            ]
          },
          "metadata": {},
          "execution_count": 7
        }
      ],
      "source": [
        "# check out the shape of the training data\n",
        "X_train.shape"
      ]
    },
    {
      "cell_type": "code",
      "execution_count": null,
      "metadata": {
        "id": "u2KLE5a7jhBm",
        "outputId": "5344232c-5cbb-4e5e-f48f-c3e00f3d94a2",
        "colab": {
          "base_uri": "https://localhost:8080/"
        }
      },
      "outputs": [
        {
          "output_type": "execute_result",
          "data": {
            "text/plain": [
              "(10000, 28, 28)"
            ]
          },
          "metadata": {},
          "execution_count": 8
        }
      ],
      "source": [
        "# check out the shape of the testing data\n",
        "X_test.shape"
      ]
    },
    {
      "cell_type": "code",
      "execution_count": null,
      "metadata": {
        "id": "GqQSWfJQjhBn",
        "outputId": "e16fa8d2-fe5c-49ed-be84-fd322b4a36bf",
        "colab": {
          "base_uri": "https://localhost:8080/"
        }
      },
      "outputs": [
        {
          "output_type": "execute_result",
          "data": {
            "text/plain": [
              "((60000,), (10000,))"
            ]
          },
          "metadata": {},
          "execution_count": 9
        }
      ],
      "source": [
        "y_train.shape, y_test.shape"
      ]
    },
    {
      "cell_type": "markdown",
      "metadata": {
        "id": "jWb45OshSDsr"
      },
      "source": [
        "#PERFORM DATA VISUALIZATION"
      ]
    },
    {
      "cell_type": "code",
      "execution_count": null,
      "metadata": {
        "colab": {
          "base_uri": "https://localhost:8080/",
          "height": 481
        },
        "id": "fDPETkRESVQi",
        "outputId": "348f30cc-5b2c-4b7a-a4a0-e8b6ef8991e3"
      },
      "outputs": [
        {
          "data": {
            "text/plain": [
              "<matplotlib.image.AxesImage at 0x23220dc4a90>"
            ]
          },
          "execution_count": 7,
          "metadata": {},
          "output_type": "execute_result"
        },
        {
          "data": {
            "image/png": "[encoded data removed]",
            "text/plain": [
              "<Figure size 432x288 with 1 Axes>"
            ]
          },
          "metadata": {
            "needs_background": "light"
          },
          "output_type": "display_data"
        }
      ],
      "source": [
        "# Let's view some images!\n",
        "i = random.randint(1, 60000)\n",
        "plt.imshow(X_train[i], cmap='gray')"
      ]
    },
    {
      "cell_type": "code",
      "execution_count": null,
      "metadata": {
        "colab": {
          "base_uri": "https://localhost:8080/",
          "height": 34
        },
        "id": "R82p9OClSXw2",
        "outputId": "4070bd53-53f7-4347-bf85-1fc8d5c342c1"
      },
      "outputs": [
        {
          "data": {
            "text/plain": [
              "7"
            ]
          },
          "execution_count": 8,
          "metadata": {},
          "output_type": "execute_result"
        }
      ],
      "source": [
        "label = y_train[i]\n",
        "label"
      ]
    },
    {
      "cell_type": "code",
      "execution_count": null,
      "metadata": {
        "colab": {
          "base_uri": "https://localhost:8080/",
          "height": 235
        },
        "id": "Rss5yne6SZfa",
        "outputId": "cc8085d6-9cc5-4893-d6b7-8d11a383643a"
      },
      "outputs": [
        {
          "output_type": "error",
          "ename": "NameError",
          "evalue": "ignored",
          "traceback": [
            "\u001b[0;31m---------------------------------------------------------------------------\u001b[0m",
            "\u001b[0;31mNameError\u001b[0m                                 Traceback (most recent call last)",
            "\u001b[0;32m<ipython-input-1-e0153a306961>\u001b[0m in \u001b[0;36m<module>\u001b[0;34m\u001b[0m\n\u001b[1;32m      8\u001b[0m \u001b[0;31m# we can use the axes object to plot specific figures at various locations\u001b[0m\u001b[0;34m\u001b[0m\u001b[0;34m\u001b[0m\u001b[0;34m\u001b[0m\u001b[0m\n\u001b[1;32m      9\u001b[0m \u001b[0;34m\u001b[0m\u001b[0m\n\u001b[0;32m---> 10\u001b[0;31m \u001b[0mfig\u001b[0m\u001b[0;34m,\u001b[0m \u001b[0maxes\u001b[0m \u001b[0;34m=\u001b[0m \u001b[0mplt\u001b[0m\u001b[0;34m.\u001b[0m\u001b[0msubplots\u001b[0m\u001b[0;34m(\u001b[0m\u001b[0mL_grid\u001b[0m\u001b[0;34m,\u001b[0m \u001b[0mW_grid\u001b[0m\u001b[0;34m,\u001b[0m \u001b[0mfigsize\u001b[0m \u001b[0;34m=\u001b[0m \u001b[0;34m(\u001b[0m\u001b[0;36m17\u001b[0m\u001b[0;34m,\u001b[0m\u001b[0;36m17\u001b[0m\u001b[0;34m)\u001b[0m\u001b[0;34m)\u001b[0m\u001b[0;34m\u001b[0m\u001b[0;34m\u001b[0m\u001b[0m\n\u001b[0m\u001b[1;32m     11\u001b[0m \u001b[0;34m\u001b[0m\u001b[0m\n\u001b[1;32m     12\u001b[0m \u001b[0maxes\u001b[0m \u001b[0;34m=\u001b[0m \u001b[0maxes\u001b[0m\u001b[0;34m.\u001b[0m\u001b[0mravel\u001b[0m\u001b[0;34m(\u001b[0m\u001b[0;34m)\u001b[0m \u001b[0;31m# flaten the 15 x 15 matrix into 225 array\u001b[0m\u001b[0;34m\u001b[0m\u001b[0;34m\u001b[0m\u001b[0m\n",
            "\u001b[0;31mNameError\u001b[0m: name 'plt' is not defined"
          ]
        }
      ],
      "source": [
        "# Let's view more images in a grid format\n",
        "# Define the dimensions of the plot grid \n",
        "W_grid = 15\n",
        "L_grid = 15\n",
        "\n",
        "# fig, axes = plt.subplots(L_grid, W_grid)\n",
        "# subplot return the figure object and axes object\n",
        "# we can use the axes object to plot specific figures at various locations\n",
        "\n",
        "fig, axes = plt.subplots(L_grid, W_grid, figsize = (17,17))\n",
        "\n",
        "axes = axes.ravel() # flaten the 15 x 15 matrix into 225 array\n",
        "\n",
        "n_training = len(X_train) # get the length of the training dataset\n",
        "\n",
        "# Select a random number from 0 to n_training\n",
        "\n",
        "for i in np.arange(0, W_grid * L_grid):\n",
        "    index = np.random.randint(0, n_training)\n",
        "    axes[i].imshow(X_train[index])\n",
        "    axes[i].set_title(y_train[index], fontsize = 8)\n",
        "    axes[i].axis('off')\n",
        "\n"
      ]
    },
    {
      "cell_type": "markdown",
      "metadata": {
        "id": "H38yzWMAn7hu"
      },
      "source": [
        "# PERFORM DATA PREPROCESSING"
      ]
    },
    {
      "cell_type": "code",
      "execution_count": null,
      "metadata": {
        "id": "_4H4UCGpn-sC"
      },
      "outputs": [],
      "source": [
        "# normalize data\n",
        "X_train = X_train/255\n",
        "X_test = X_test/255\n",
        "#ukg"
      ]
    },
    {
      "cell_type": "code",
      "execution_count": null,
      "metadata": {
        "id": "whK6K-o6jhBp",
        "outputId": "9a29ed56-e4cd-4794-b824-a5f166bcb32f"
      },
      "outputs": [
        {
          "data": {
            "text/plain": [
              "array([[[0., 0., 0., ..., 0., 0., 0.],\n",
              "        [0., 0., 0., ..., 0., 0., 0.],\n",
              "        [0., 0., 0., ..., 0., 0., 0.],\n",
              "        ...,\n",
              "        [0., 0., 0., ..., 0., 0., 0.],\n",
              "        [0., 0., 0., ..., 0., 0., 0.],\n",
              "        [0., 0., 0., ..., 0., 0., 0.]],\n",
              "\n",
              "       [[0., 0., 0., ..., 0., 0., 0.],\n",
              "        [0., 0., 0., ..., 0., 0., 0.],\n",
              "        [0., 0., 0., ..., 0., 0., 0.],\n",
              "        ...,\n",
              "        [0., 0., 0., ..., 0., 0., 0.],\n",
              "        [0., 0., 0., ..., 0., 0., 0.],\n",
              "        [0., 0., 0., ..., 0., 0., 0.]],\n",
              "\n",
              "       [[0., 0., 0., ..., 0., 0., 0.],\n",
              "        [0., 0., 0., ..., 0., 0., 0.],\n",
              "        [0., 0., 0., ..., 0., 0., 0.],\n",
              "        ...,\n",
              "        [0., 0., 0., ..., 0., 0., 0.],\n",
              "        [0., 0., 0., ..., 0., 0., 0.],\n",
              "        [0., 0., 0., ..., 0., 0., 0.]],\n",
              "\n",
              "       ...,\n",
              "\n",
              "       [[0., 0., 0., ..., 0., 0., 0.],\n",
              "        [0., 0., 0., ..., 0., 0., 0.],\n",
              "        [0., 0., 0., ..., 0., 0., 0.],\n",
              "        ...,\n",
              "        [0., 0., 0., ..., 0., 0., 0.],\n",
              "        [0., 0., 0., ..., 0., 0., 0.],\n",
              "        [0., 0., 0., ..., 0., 0., 0.]],\n",
              "\n",
              "       [[0., 0., 0., ..., 0., 0., 0.],\n",
              "        [0., 0., 0., ..., 0., 0., 0.],\n",
              "        [0., 0., 0., ..., 0., 0., 0.],\n",
              "        ...,\n",
              "        [0., 0., 0., ..., 0., 0., 0.],\n",
              "        [0., 0., 0., ..., 0., 0., 0.],\n",
              "        [0., 0., 0., ..., 0., 0., 0.]],\n",
              "\n",
              "       [[0., 0., 0., ..., 0., 0., 0.],\n",
              "        [0., 0., 0., ..., 0., 0., 0.],\n",
              "        [0., 0., 0., ..., 0., 0., 0.],\n",
              "        ...,\n",
              "        [0., 0., 0., ..., 0., 0., 0.],\n",
              "        [0., 0., 0., ..., 0., 0., 0.],\n",
              "        [0., 0., 0., ..., 0., 0., 0.]]])"
            ]
          },
          "execution_count": 11,
          "metadata": {},
          "output_type": "execute_result"
        }
      ],
      "source": [
        "X_test"
      ]
    },
    {
      "cell_type": "code",
      "execution_count": null,
      "metadata": {
        "id": "g2ctQnysn-qN"
      },
      "outputs": [],
      "source": [
        "# add some noise\n",
        "noise_factor = 0.3\n",
        "\n",
        "noise_dataset = []\n",
        "\n",
        "for img in X_train:\n",
        "    noisy_image = img + noise_factor * np.random.randn(*img.shape)\n",
        "    noisy_image = np.clip(noisy_image, 0, 1)\n",
        "    noise_dataset.append(noisy_image)"
      ]
    },
    {
      "cell_type": "code",
      "execution_count": null,
      "metadata": {
        "id": "F9dmfI1hjhBq"
      },
      "outputs": [],
      "source": [
        "noise_dataset = np.array(noise_dataset)"
      ]
    },
    {
      "cell_type": "code",
      "execution_count": null,
      "metadata": {
        "id": "cKN0_eO6n-oF",
        "outputId": "721bc249-da6c-47fa-8fa5-ed5aa3df1d6f"
      },
      "outputs": [
        {
          "data": {
            "text/plain": [
              "<matplotlib.image.AxesImage at 0x23224b954a8>"
            ]
          },
          "execution_count": 14,
          "metadata": {},
          "output_type": "execute_result"
        },
        {
          "data": {
            "image/png": "[encoded data removed]",
            "text/plain": [
              "<Figure size 432x288 with 1 Axes>"
            ]
          },
          "metadata": {
            "needs_background": "light"
          },
          "output_type": "display_data"
        }
      ],
      "source": [
        "plt.imshow(noise_dataset[22], cmap='gray')"
      ]
    },
    {
      "cell_type": "code",
      "execution_count": null,
      "metadata": {
        "id": "On1wNvOWoHBT"
      },
      "outputs": [],
      "source": [
        "# add noise to testing dataset\n",
        "noise_factor = 0.3\n",
        "\n",
        "noise_test_dataset = []\n",
        "\n",
        "for img in X_test:\n",
        "    noisy_image = img + noise_factor * np.random.randn(*img.shape)\n",
        "    noisy_image = np.clip(noisy_image, 0, 1)\n",
        "    noise_test_dataset.append(noisy_image)"
      ]
    },
    {
      "cell_type": "code",
      "execution_count": null,
      "metadata": {
        "id": "t6iGcFrGjhBq"
      },
      "outputs": [],
      "source": [
        "noise_test_dataset = np.array(noise_test_dataset)"
      ]
    },
    {
      "cell_type": "code",
      "execution_count": null,
      "metadata": {
        "colab": {
          "base_uri": "https://localhost:8080/",
          "height": 34
        },
        "id": "uALZk9ZuoG2k",
        "outputId": "49d672ed-9718-43c6-b187-8516e8ceee46"
      },
      "outputs": [
        {
          "data": {
            "text/plain": [
              "<matplotlib.image.AxesImage at 0x2321ec14d30>"
            ]
          },
          "execution_count": 17,
          "metadata": {},
          "output_type": "execute_result"
        },
        {
          "data": {
            "image/png": "[encoded data removed]",
            "text/plain": [
              "<Figure size 432x288 with 1 Axes>"
            ]
          },
          "metadata": {
            "needs_background": "light"
          },
          "output_type": "display_data"
        }
      ],
      "source": [
        "plt.imshow(X_test[22], cmap='gray')"
      ]
    },
    {
      "cell_type": "markdown",
      "metadata": {
        "id": "zPcXYuTkoko7"
      },
      "source": [
        "# BUILD AND TRAIN AUTOENCODER DEEP LEARNING MODEL"
      ]
    },
    {
      "cell_type": "code",
      "execution_count": null,
      "metadata": {
        "id": "tMMvZyIUfOhb"
      },
      "outputs": [],
      "source": [
        "autoencoder = tf.keras.models.Sequential()\n",
        "\n",
        "#encoder\n",
        "autoencoder.add(tf.keras.layers.Conv2D(filters=16, kernel_size=3, strides=2, padding='same', input_shape=(28, 28, 1)))\n",
        "autoencoder.add(tf.keras.layers.Conv2D(filters=8, kernel_size=3, strides=2, padding='same'))#, input_shape=(28, 28, 1)))\n",
        "\n",
        "autoencoder.add(tf.keras.layers.Conv2D(filters=16, kernel_size=3, strides=1, padding='same'))#, input_shape=(28, 28, 1)))\n",
        "\n",
        "#decoder\n",
        "autoencoder.add(tf.keras.layers.Conv2DTranspose(filters=16, kernel_size=3, strides=2, padding='same'))#, input_shape=(28, 28, 1)))\n",
        "autoencoder.add(tf.keras.layers.Conv2DTranspose(filters=1, kernel_size=3, strides=2, activation='sigmoid', padding='same'))#, input_shape=(28, 28, 1)))"
      ]
    },
    {
      "cell_type": "code",
      "execution_count": null,
      "metadata": {
        "colab": {
          "base_uri": "https://localhost:8080/",
          "height": 319
        },
        "id": "rjYYeUU6rToW",
        "outputId": "111e0056-a0a1-4d67-c4c4-6af6e884480b"
      },
      "outputs": [
        {
          "name": "stdout",
          "output_type": "stream",
          "text": [
            "Model: \"sequential\"\n",
            "_________________________________________________________________\n",
            "Layer (type)                 Output Shape              Param #   \n",
            "=================================================================\n",
            "conv2d (Conv2D)              (None, 14, 14, 16)        160       \n",
            "_________________________________________________________________\n",
            "conv2d_1 (Conv2D)            (None, 7, 7, 8)           1160      \n",
            "_________________________________________________________________\n",
            "conv2d_2 (Conv2D)            (None, 7, 7, 16)          1168      \n",
            "_________________________________________________________________\n",
            "conv2d_transpose (Conv2DTran (None, 14, 14, 16)        2320      \n",
            "_________________________________________________________________\n",
            "conv2d_transpose_1 (Conv2DTr (None, 28, 28, 1)         145       \n",
            "=================================================================\n",
            "Total params: 4,953\n",
            "Trainable params: 4,953\n",
            "Non-trainable params: 0\n",
            "_________________________________________________________________\n"
          ]
        }
      ],
      "source": [
        "autoencoder.compile(loss='binary_crossentropy', optimizer=tf.keras.optimizers.Adam(lr=0.001))\n",
        "autoencoder.summary()"
      ]
    },
    {
      "cell_type": "code",
      "execution_count": null,
      "metadata": {
        "colab": {
          "base_uri": "https://localhost:8080/",
          "height": 1000
        },
        "id": "2rLEIbQ0fZgs",
        "outputId": "266b2954-8b61-4f0e-af2b-b8b401d5c04a"
      },
      "outputs": [
        {
          "name": "stdout",
          "output_type": "stream",
          "text": [
            "Train on 60000 samples, validate on 10000 samples\n",
            "Epoch 1/10\n",
            "60000/60000 [==============================] - 29s 484us/sample - loss: 0.3835 - val_loss: 0.3202\n",
            "Epoch 2/10\n",
            "60000/60000 [==============================] - 28s 472us/sample - loss: 0.3116 - val_loss: 0.3101\n",
            "Epoch 3/10\n",
            "60000/60000 [==============================] - 30s 502us/sample - loss: 0.3053 - val_loss: 0.3061\n",
            "Epoch 4/10\n",
            "60000/60000 [==============================] - 30s 503us/sample - loss: 0.3029 - val_loss: 0.3041\n",
            "Epoch 5/10\n",
            "60000/60000 [==============================] - 30s 503us/sample - loss: 0.3014 - val_loss: 0.3032\n",
            "Epoch 6/10\n",
            "60000/60000 [==============================] - 30s 505us/sample - loss: 0.3005 - val_loss: 0.3021\n",
            "Epoch 7/10\n",
            "60000/60000 [==============================] - 31s 512us/sample - loss: 0.2998 - val_loss: 0.3017\n",
            "Epoch 8/10\n",
            "60000/60000 [==============================] - 31s 509us/sample - loss: 0.2994 - val_loss: 0.3013\n",
            "Epoch 9/10\n",
            "60000/60000 [==============================] - 31s 510us/sample - loss: 0.2991 - val_loss: 0.3012\n",
            "Epoch 10/10\n",
            "60000/60000 [==============================] - 31s 512us/sample - loss: 0.2989 - val_loss: 0.3009\n"
          ]
        },
        {
          "data": {
            "text/plain": [
              "<tensorflow.python.keras.callbacks.History at 0x2321e8cfd30>"
            ]
          },
          "execution_count": 20,
          "metadata": {},
          "output_type": "execute_result"
        }
      ],
      "source": [
        "autoencoder.fit(noise_dataset.reshape(-1, 28, 28, 1),\n",
        "               X_train.reshape(-1, 28, 28, 1),\n",
        "               epochs = 10,\n",
        "               batch_size = 200,\n",
        "               validation_data = (noise_test_dataset.reshape(-1, 28, 28, 1), X_test.reshape(-1, 28, 28, 1)))"
      ]
    },
    {
      "cell_type": "markdown",
      "metadata": {
        "id": "0wR3uKW8g5po"
      },
      "source": [
        "#EVALUATE TRAINED MODEL PERFORMANCE"
      ]
    },
    {
      "cell_type": "code",
      "execution_count": null,
      "metadata": {
        "id": "lN7xWc_8tDoi",
        "outputId": "2136a40b-5633-438a-c10a-26343384dfea"
      },
      "outputs": [
        {
          "name": "stdout",
          "output_type": "stream",
          "text": [
            "10000/10000 [==============================] - 3s 278us/sample - loss: 0.3009\n",
            "Test Loss : 0.301\n"
          ]
        }
      ],
      "source": [
        "evaluation = autoencoder.evaluate(noise_test_dataset.reshape(-1, 28, 28, 1), X_test.reshape(-1, 28, 28, 1))\n",
        "print('Test Loss : {:.3f}'.format(evaluation))"
      ]
    },
    {
      "cell_type": "code",
      "execution_count": null,
      "metadata": {
        "id": "IxLMzzPFtHFF"
      },
      "outputs": [],
      "source": [
        "predicted = autoencoder.predict(noise_test_dataset[:10].reshape(-1, 28, 28, 1))"
      ]
    },
    {
      "cell_type": "code",
      "execution_count": null,
      "metadata": {
        "colab": {
          "base_uri": "https://localhost:8080/",
          "height": 244
        },
        "id": "HKHWvFmUtA6Q",
        "outputId": "e9dd6728-eeff-484d-b75f-d0773da8ef6f"
      },
      "outputs": [
        {
          "data": {
            "image/png": "[encoded data removed]",
            "text/plain": [
              "<Figure size 1440x288 with 20 Axes>"
            ]
          },
          "metadata": {
            "needs_background": "light"
          },
          "output_type": "display_data"
        }
      ],
      "source": [
        "fig, axes = plt.subplots(nrows=2, ncols=10, sharex=True, sharey=True, figsize=(20,4))\n",
        "for images, row in zip([noise_test_dataset[:10], predicted], axes):\n",
        "    for img, ax in zip(images, row):\n",
        "        ax.imshow(img.reshape((28, 28)), cmap='Greys_r')\n",
        "        ax.get_xaxis().set_visible(False)\n",
        "        ax.get_yaxis().set_visible(False)"
      ]
    },
    {
      "cell_type": "markdown",
      "metadata": {
        "id": "J7pUBTXMw75-"
      },
      "source": [
        "# EXCELLENT WORK!"
      ]
    },
    {
      "cell_type": "markdown",
      "metadata": {
        "id": "WXNOFm6cjhBu"
      },
      "source": [
        "- 0 = T-shirt/top\n",
        "- 1 = Trouser\n",
        "- 2 = Pullover\n",
        "- 3 = Dress\n",
        "- 4 = Coat\n",
        "- 5 = Sandal\n",
        "- 6 = Shirt\n",
        "- 7 = Sneaker\n",
        "- 8 = Bag\n",
        "- 9 = Ankle boot"
      ]
    }
  ],
  "metadata": {
    "accelerator": "GPU",
    "colab": {
      "collapsed_sections": [],
      "provenance": []
    },
    "kernelspec": {
      "display_name": "Python 3",
      "language": "python",
      "name": "python3"
    },
    "language_info": {
      "codemirror_mode": {
        "name": "ipython",
        "version": 3
      },
      "file_extension": ".py",
      "mimetype": "text/x-python",
      "name": "python",
      "nbconvert_exporter": "python",
      "pygments_lexer": "ipython3",
      "version": "3.7.0"
    }
  },
  "nbformat": 4,
  "nbformat_minor": 0
}